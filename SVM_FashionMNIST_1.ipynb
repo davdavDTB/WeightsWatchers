{
  "nbformat": 4,
  "nbformat_minor": 0,
  "metadata": {
    "colab": {
      "name": "SVM FashionMNIST 1",
      "provenance": [],
      "collapsed_sections": [],
      "toc_visible": true,
      "authorship_tag": "ABX9TyPHjyQYOL4tsd+KsS941p2n",
      "include_colab_link": true
    },
    "kernelspec": {
      "name": "python3",
      "display_name": "Python 3"
    }
  },
  "cells": [
    {
      "cell_type": "markdown",
      "metadata": {
        "id": "view-in-github",
        "colab_type": "text"
      },
      "source": [
        "<a href=\"https://colab.research.google.com/github/davdavDTB/WeightsWatchers/blob/master/SVM_FashionMNIST_1.ipynb\" target=\"_parent\"><img src=\"https://colab.research.google.com/assets/colab-badge.svg\" alt=\"Open In Colab\"/></a>"
      ]
    },
    {
      "cell_type": "code",
      "metadata": {
        "colab_type": "code",
        "outputId": "62652dc3-8512-41f2-9617-c98f4fac00a3",
        "id": "QwkUbkT4BAaH",
        "colab": {
          "base_uri": "https://localhost:8080/",
          "height": 54
        }
      },
      "source": [
        "\"\"\"\n",
        "This code is work in progress\n",
        "\n",
        "SVM on FashionMNIST, uses PCA for feature extraction\n",
        "\n",
        "Evaluation not done yet (although you can check accuracy)\n",
        "\n",
        "David\n",
        "\"\"\""
      ],
      "execution_count": 0,
      "outputs": [
        {
          "output_type": "execute_result",
          "data": {
            "text/plain": [
              "'\\nThis code is work in progress\\n\\nSVM on FashionMNIST, uses PCA for feature extraction\\n\\nEvaluation not done yet (although you can check accuracy)\\n\\nDavid\\n'"
            ]
          },
          "metadata": {
            "tags": []
          },
          "execution_count": 1
        }
      ]
    },
    {
      "cell_type": "code",
      "metadata": {
        "id": "0056LVr31-qx",
        "colab_type": "code",
        "outputId": "4b32259f-e144-45e4-da78-6871746c146b",
        "colab": {
          "base_uri": "https://localhost:8080/",
          "height": 222
        }
      },
      "source": [
        "import tensorflow as tf\n",
        "import numpy as np\n",
        "import matplotlib.pyplot as plt\n",
        "from sklearn.decomposition import PCA\n",
        "%matplotlib inline\n",
        "import seaborn as sns\n",
        "from sklearn.model_selection import GridSearchCV\n",
        "\n",
        "\"\"\"\n",
        "from skimage.feature import hog\n",
        "from skimage import color\n",
        "\n",
        "import cv2\n",
        "\"\"\"\n",
        "from sklearn.metrics import classification_report\n",
        "\n",
        "# Import datasets, classifiers and performance metrics\n",
        "from sklearn import datasets, svm, metrics\n",
        "\n",
        "# Load the fashion-mnist pre-shuffled train data and test data\n",
        "(x_train, l_train), (x_test, l_test) = tf.keras.datasets.fashion_mnist.load_data()\n",
        "print(\"x_train shape:\", x_train.shape, \"y_train shape:\", l_train.shape)"
      ],
      "execution_count": 0,
      "outputs": [
        {
          "output_type": "stream",
          "text": [
            "Downloading data from https://storage.googleapis.com/tensorflow/tf-keras-datasets/train-labels-idx1-ubyte.gz\n",
            "32768/29515 [=================================] - 0s 0us/step\n"
          ],
          "name": "stdout"
        },
        {
          "output_type": "stream",
          "text": [
            "/usr/local/lib/python3.6/dist-packages/statsmodels/tools/_testing.py:19: FutureWarning: pandas.util.testing is deprecated. Use the functions in the public API at pandas.testing instead.\n",
            "  import pandas.util.testing as tm\n"
          ],
          "name": "stderr"
        },
        {
          "output_type": "stream",
          "text": [
            "Downloading data from https://storage.googleapis.com/tensorflow/tf-keras-datasets/train-images-idx3-ubyte.gz\n",
            "26427392/26421880 [==============================] - 0s 0us/step\n",
            "Downloading data from https://storage.googleapis.com/tensorflow/tf-keras-datasets/t10k-labels-idx1-ubyte.gz\n",
            "8192/5148 [===============================================] - 0s 0us/step\n",
            "Downloading data from https://storage.googleapis.com/tensorflow/tf-keras-datasets/t10k-images-idx3-ubyte.gz\n",
            "4423680/4422102 [==============================] - 0s 0us/step\n",
            "x_train shape: (60000, 28, 28) y_train shape: (60000,)\n"
          ],
          "name": "stdout"
        }
      ]
    },
    {
      "cell_type": "code",
      "metadata": {
        "id": "-Uk9EGNjwRe7",
        "colab_type": "code",
        "outputId": "116f0c41-bbb9-41e8-d66e-5ef935927b44",
        "colab": {
          "base_uri": "https://localhost:8080/",
          "height": 54
        }
      },
      "source": [
        "#For HOG, experimenting\n",
        "\n",
        "\"\"\"\n",
        "def deskew(img, imgSize):\n",
        "    # calculate image moments\n",
        "    m = cv2.moments(img)\n",
        "    if abs(m['mu02']) < 1e-2:\n",
        "        # no deskewing needed\n",
        "        return img.copy()\n",
        "\n",
        "    # calculate skew based on central moments\n",
        "    skew = m['mu11'] / m['mu02']\n",
        "\n",
        "    # calculate affine transformation to correct skewness\n",
        "    M = np.float32([[1, skew, -0.5*imgSize*skew], [0, 1, 0]])\n",
        "\n",
        "    # apply affine transformation\n",
        "    img = cv2.warpAffine(img, M, (imgSize, imgSize), flags=cv2.WARP_INVERSE_MAP | cv2.INTER_LINEAR)\n",
        "\n",
        "    return img\n",
        "\"\"\""
      ],
      "execution_count": 0,
      "outputs": [
        {
          "output_type": "execute_result",
          "data": {
            "text/plain": [
              "\"\\ndef deskew(img, imgSize):\\n    # calculate image moments\\n    m = cv2.moments(img)\\n    if abs(m['mu02']) < 1e-2:\\n        # no deskewing needed\\n        return img.copy()\\n\\n    # calculate skew based on central moments\\n    skew = m['mu11'] / m['mu02']\\n\\n    # calculate affine transformation to correct skewness\\n    M = np.float32([[1, skew, -0.5*imgSize*skew], [0, 1, 0]])\\n\\n    # apply affine transformation\\n    img = cv2.warpAffine(img, M, (imgSize, imgSize), flags=cv2.WARP_INVERSE_MAP | cv2.INTER_LINEAR)\\n\\n    return img\\n\""
            ]
          },
          "metadata": {
            "tags": []
          },
          "execution_count": 3
        }
      ]
    },
    {
      "cell_type": "code",
      "metadata": {
        "id": "Cuubxznt9XxS",
        "colab_type": "code",
        "outputId": "7ec23f05-c014-4952-e31e-eba52259f388",
        "colab": {
          "base_uri": "https://localhost:8080/",
          "height": 265
        }
      },
      "source": [
        "#Just showing the data\n",
        "\n",
        "fashion_classes     = {0: 'T-shirt/top', \n",
        "                       1: 'Trouser', \n",
        "                       2: 'Pullover', \n",
        "                       3: 'Dress', \n",
        "                       4: 'Coat',\n",
        "                       5: 'Sandal', \n",
        "                       6: 'Shirt', \n",
        "                       7: 'Sneaker', \n",
        "                       8: 'Bag', \n",
        "                       9: 'Ankle boot'}\n",
        "\n",
        "mnist_classes       = [i for i in range(10)]\n",
        "num_classes         = 10\n",
        "\n",
        "idx = np.random.randint(len(x_train))\n",
        "plt.imshow(np.squeeze(x_train[idx]), cmap='gray')\n",
        "plt.axis('off')\n",
        "plt.show()\n",
        "\n",
        "print(\"Target:\", fashion_classes[l_train[idx]])"
      ],
      "execution_count": 0,
      "outputs": [
        {
          "output_type": "display_data",
          "data": {
            "image/png": "[encoded data removed]",
            "text/plain": [
              "<Figure size 432x288 with 1 Axes>"
            ]
          },
          "metadata": {
            "tags": [],
            "needs_background": "light"
          }
        },
        {
          "output_type": "stream",
          "text": [
            "Target: Coat\n"
          ],
          "name": "stdout"
        }
      ]
    },
    {
      "cell_type": "code",
      "metadata": {
        "id": "FGuRBcv0OHAX",
        "colab_type": "code",
        "outputId": "8a81fa0f-7699-4797-b031-c0ca17c6f86a",
        "colab": {
          "base_uri": "https://localhost:8080/",
          "height": 151
        }
      },
      "source": [
        "#Flattening train images\n",
        "x_train = np.reshape(x_train, (60000, 784))\n",
        "print(x_train)\n",
        "print(l_train)"
      ],
      "execution_count": 0,
      "outputs": [
        {
          "output_type": "stream",
          "text": [
            "[[0 0 0 ... 0 0 0]\n",
            " [0 0 0 ... 0 0 0]\n",
            " [0 0 0 ... 0 0 0]\n",
            " ...\n",
            " [0 0 0 ... 0 0 0]\n",
            " [0 0 0 ... 0 0 0]\n",
            " [0 0 0 ... 0 0 0]]\n",
            "[9 0 0 ... 3 0 5]\n"
          ],
          "name": "stdout"
        }
      ]
    },
    {
      "cell_type": "code",
      "metadata": {
        "id": "R9SQEgnds3Ta",
        "colab_type": "code",
        "outputId": "6eed3c38-4238-4590-f8b8-44d99fd9f3bb",
        "colab": {
          "base_uri": "https://localhost:8080/",
          "height": 151
        }
      },
      "source": [
        "#Flattening test images\n",
        "x_test = np.reshape(x_test, (10000, 784))\n",
        "print(x_test)\n",
        "print(l_test)"
      ],
      "execution_count": 0,
      "outputs": [
        {
          "output_type": "stream",
          "text": [
            "[[0 0 0 ... 0 0 0]\n",
            " [0 0 0 ... 0 0 0]\n",
            " [0 0 0 ... 0 0 0]\n",
            " ...\n",
            " [0 0 0 ... 0 0 0]\n",
            " [0 0 0 ... 0 0 0]\n",
            " [0 0 0 ... 0 0 0]]\n",
            "[9 2 1 ... 8 1 5]\n"
          ],
          "name": "stdout"
        }
      ]
    },
    {
      "cell_type": "code",
      "metadata": {
        "id": "vXfLf3iWqmx2",
        "colab_type": "code",
        "colab": {}
      },
      "source": [
        "#Principle Component Analysis\n",
        "pca = PCA(n_components=200) #code lasts 1min when n_components=20\n",
        "pca.fit(x_train)\n",
        "i_train = pca.transform(x_train)\n",
        "i_test = pca.transform(x_test)"
      ],
      "execution_count": 0,
      "outputs": []
    },
    {
      "cell_type": "code",
      "metadata": {
        "id": "72Q0A97hTgJf",
        "colab_type": "code",
        "outputId": "6d743ed5-15d3-41ed-f6df-905546b7f99e",
        "colab": {
          "base_uri": "https://localhost:8080/",
          "height": 54
        }
      },
      "source": [
        "\"\"\"\n",
        "#HOG\n",
        "\n",
        "imsize = 28 # size of image (28x28)\n",
        "\n",
        "# HOG parameters:\n",
        "winSize = (imsize, imsize) # 28, 28\n",
        "blockSize = (imsize//2, imsize//2) # 14, 14    \n",
        "cellSize = (imsize//2, imsize//2) #14, 14\n",
        "blockStride = (imsize//4, imsize//4) # 7, 7\n",
        "nbins = 9\n",
        "signedGradients = True\n",
        "derivAperture = 1\n",
        "winSigma = -1.0\n",
        "histogramNormType = 0\n",
        "L2HysThreshold = 0.2\n",
        "gammaCorrection = 1\n",
        "nlevels = 64\n",
        "\n",
        "# define the HOG descriptor\n",
        "hog = cv2.HOGDescriptor(winSize, blockSize, blockStride, cellSize, nbins, derivAperture, winSigma, \n",
        "                        histogramNormType, L2HysThreshold, gammaCorrection, nlevels, signedGradients) #visualization=True\n",
        "\n",
        "\"\"\""
      ],
      "execution_count": 0,
      "outputs": [
        {
          "output_type": "execute_result",
          "data": {
            "text/plain": [
              "'\\n#HOG\\n\\nimsize = 28 # size of image (28x28)\\n\\n# HOG parameters:\\nwinSize = (imsize, imsize) # 28, 28\\nblockSize = (imsize//2, imsize//2) # 14, 14    \\ncellSize = (imsize//2, imsize//2) #14, 14\\nblockStride = (imsize//4, imsize//4) # 7, 7\\nnbins = 9\\nsignedGradients = True\\nderivAperture = 1\\nwinSigma = -1.0\\nhistogramNormType = 0\\nL2HysThreshold = 0.2\\ngammaCorrection = 1\\nnlevels = 64\\n\\n# define the HOG descriptor\\nhog = cv2.HOGDescriptor(winSize, blockSize, blockStride, cellSize, nbins, derivAperture, winSigma, \\n                        histogramNormType, L2HysThreshold, gammaCorrection, nlevels, signedGradients) #visualization=True\\n\\n'"
            ]
          },
          "metadata": {
            "tags": []
          },
          "execution_count": 8
        }
      ]
    },
    {
      "cell_type": "code",
      "metadata": {
        "id": "efEBcaGoTG_l",
        "colab_type": "code",
        "outputId": "dfb35917-7c66-48c0-df5c-63b2bd3a08af",
        "colab": {
          "base_uri": "https://localhost:8080/",
          "height": 54
        }
      },
      "source": [
        "\"\"\"\n",
        "# compute HOG descriptors\n",
        "train_descriptors = []\n",
        "for i in range(i_train.shape[0]):\n",
        "    #i_train[i] = deskew(i_train[i], 28) # deskew the current image\n",
        "    descriptor = hog.compute(i_train[i]) # compute the HOG features\n",
        "    train_descriptors.append(descriptor) # append it to the train decriptors list\n",
        "\n",
        "test_descriptors = []\n",
        "for i in range(i_test.shape[0]):\n",
        "    #i_test[i] = deskew(i_test[i], 28) # deskew the current image\n",
        "    descriptor = hog.compute(i_test[i]) # compute the HOG features\n",
        "    test_descriptors.append(descriptor) # append it to the test descriptors list\n",
        "\n",
        "#train_descriptors = np.array(train_descriptors)\n",
        "train_descriptors = np.resize(train_descriptors, (i_train.shape[0], 81))\n",
        "\n",
        "#test_descriptors = np.array(test_descriptors)\n",
        "test_descriptors = np.resize(test_descriptors, (i_test.shape[0], 81))\n",
        "\"\"\""
      ],
      "execution_count": 0,
      "outputs": [
        {
          "output_type": "execute_result",
          "data": {
            "text/plain": [
              "'\\n# compute HOG descriptors\\ntrain_descriptors = []\\nfor i in range(i_train.shape[0]):\\n    #i_train[i] = deskew(i_train[i], 28) # deskew the current image\\n    descriptor = hog.compute(i_train[i]) # compute the HOG features\\n    train_descriptors.append(descriptor) # append it to the train decriptors list\\n\\ntest_descriptors = []\\nfor i in range(i_test.shape[0]):\\n    #i_test[i] = deskew(i_test[i], 28) # deskew the current image\\n    descriptor = hog.compute(i_test[i]) # compute the HOG features\\n    test_descriptors.append(descriptor) # append it to the test descriptors list\\n\\n#train_descriptors = np.array(train_descriptors)\\ntrain_descriptors = np.resize(train_descriptors, (i_train.shape[0], 81))\\n\\n#test_descriptors = np.array(test_descriptors)\\ntest_descriptors = np.resize(test_descriptors, (i_test.shape[0], 81))\\n'"
            ]
          },
          "metadata": {
            "tags": []
          },
          "execution_count": 9
        }
      ]
    },
    {
      "cell_type": "code",
      "metadata": {
        "id": "fHZcndxkt7d8",
        "colab_type": "code",
        "outputId": "637fb6d9-e3e2-48a3-88cb-ca8b016966cb",
        "colab": {
          "base_uri": "https://localhost:8080/",
          "height": 84
        }
      },
      "source": [
        "#Defining classifier parameters and fitting train data\n",
        "clf = svm.SVC(C = 100, kernel = 'rbf')\n",
        "clf.fit(i_train, l_train)"
      ],
      "execution_count": 0,
      "outputs": [
        {
          "output_type": "execute_result",
          "data": {
            "text/plain": [
              "SVC(C=100, break_ties=False, cache_size=200, class_weight=None, coef0=0.0,\n",
              "    decision_function_shape='ovr', degree=3, gamma='scale', kernel='rbf',\n",
              "    max_iter=-1, probability=False, random_state=None, shrinking=True,\n",
              "    tol=0.001, verbose=False)"
            ]
          },
          "metadata": {
            "tags": []
          },
          "execution_count": 10
        }
      ]
    },
    {
      "cell_type": "code",
      "metadata": {
        "id": "Zu88353TvIoj",
        "colab_type": "code",
        "outputId": "4f22b05c-249a-468f-9f3d-255091608fa8",
        "colab": {
          "base_uri": "https://localhost:8080/",
          "height": 34
        }
      },
      "source": [
        "#Predictions on test data\n",
        "predicted = clf.predict(i_test)\n",
        "print(predicted)"
      ],
      "execution_count": 0,
      "outputs": [
        {
          "output_type": "stream",
          "text": [
            "[9 2 1 ... 8 1 5]\n"
          ],
          "name": "stdout"
        }
      ]
    },
    {
      "cell_type": "code",
      "metadata": {
        "id": "pwe_XbUzSH6o",
        "colab_type": "code",
        "outputId": "e9684456-2b0d-455d-86ea-432f1ed34712",
        "colab": {
          "base_uri": "https://localhost:8080/",
          "height": 84
        }
      },
      "source": [
        "#Homemade result count and accuracy function\n",
        "corrects = 0\n",
        "false = 0\n",
        "\n",
        "\n",
        "for i in range(0, len(l_test)):\n",
        "    if predicted[i] == l_test[i]:\n",
        "        corrects += 1\n",
        "    else:\n",
        "        false += 1\n",
        "\n",
        "print(corrects)\n",
        "print(false)\n",
        "\n",
        "accuracy = corrects/len(l_test)\n",
        "print(accuracy)\n",
        "print(len(predicted))"
      ],
      "execution_count": 0,
      "outputs": [
        {
          "output_type": "stream",
          "text": [
            "9015\n",
            "985\n",
            "0.9015\n",
            "10000\n"
          ],
          "name": "stdout"
        }
      ]
    },
    {
      "cell_type": "code",
      "metadata": {
        "id": "igJCScCmhuOq",
        "colab_type": "code",
        "outputId": "bc1cb649-fd85-41e3-c270-840c04b5be23",
        "colab": {
          "base_uri": "https://localhost:8080/",
          "height": 370
        }
      },
      "source": [
        "#metrics\n",
        "acc = metrics.accuracy_score(l_test, predicted)\n",
        "\n",
        "cmat = metrics.confusion_matrix(l_test, predicted)\n",
        "\n",
        "prec = metrics.precision_score(l_test, predicted, average='weighted')\n",
        "rec = metrics.recall_score(l_test, predicted, average='weighted')\n",
        "f1 = metrics.f1_score(l_test, predicted, average='weighted')\n",
        "\n",
        "print(\"accuracy =\", acc*100, \"%\")\n",
        "print(\"precision =\", prec)\n",
        "print(\"recall =\", rec)\n",
        "print(\"f1 =\", f1)\n",
        "\n",
        "print(classification_report(l_test, predicted))\n"
      ],
      "execution_count": 0,
      "outputs": [
        {
          "output_type": "stream",
          "text": [
            "accuracy = 90.14999999999999 %\n",
            "precision = 0.9015157199381058\n",
            "recall = 0.9015\n",
            "f1 = 0.9013941489173855\n",
            "              precision    recall  f1-score   support\n",
            "\n",
            "           0       0.84      0.85      0.84      1000\n",
            "           1       0.99      0.98      0.99      1000\n",
            "           2       0.80      0.85      0.83      1000\n",
            "           3       0.91      0.90      0.91      1000\n",
            "           4       0.84      0.83      0.84      1000\n",
            "           5       0.98      0.97      0.97      1000\n",
            "           6       0.75      0.72      0.74      1000\n",
            "           7       0.95      0.96      0.96      1000\n",
            "           8       0.98      0.98      0.98      1000\n",
            "           9       0.96      0.96      0.96      1000\n",
            "\n",
            "    accuracy                           0.90     10000\n",
            "   macro avg       0.90      0.90      0.90     10000\n",
            "weighted avg       0.90      0.90      0.90     10000\n",
            "\n"
          ],
          "name": "stdout"
        }
      ]
    },
    {
      "cell_type": "code",
      "metadata": {
        "id": "ksoYQdFJ41b_",
        "colab_type": "code",
        "colab": {}
      },
      "source": [
        "#Lecture 7:\n",
        "#set random state=42"
      ],
      "execution_count": 0,
      "outputs": []
    }
  ]
}